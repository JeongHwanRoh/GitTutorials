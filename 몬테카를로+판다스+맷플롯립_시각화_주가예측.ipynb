{
  "nbformat": 4,
  "nbformat_minor": 0,
  "metadata": {
    "colab": {
      "name": "몬테카를로+판다스+맷플롯립 시각화_주가예측.ipynb",
      "provenance": [],
      "collapsed_sections": [],
      "authorship_tag": "ABX9TyOEse6jSHATDkfKcvZdfua6",
      "include_colab_link": true
    },
    "kernelspec": {
      "name": "python3",
      "display_name": "Python 3"
    },
    "language_info": {
      "name": "python"
    }
  },
  "cells": [
    {
      "cell_type": "markdown",
      "metadata": {
        "id": "view-in-github",
        "colab_type": "text"
      },
      "source": [
        "<a href=\"https://colab.research.google.com/github/JeongHwanRoh/GitTutorials/blob/main/%EB%AA%AC%ED%85%8C%EC%B9%B4%EB%A5%BC%EB%A1%9C%2B%ED%8C%90%EB%8B%A4%EC%8A%A4%2B%EB%A7%B7%ED%94%8C%EB%A1%AF%EB%A6%BD_%EC%8B%9C%EA%B0%81%ED%99%94_%EC%A3%BC%EA%B0%80%EC%98%88%EC%B8%A1.ipynb\" target=\"_parent\"><img src=\"https://colab.research.google.com/assets/colab-badge.svg\" alt=\"Open In Colab\"/></a>"
      ]
    },
    {
      "cell_type": "code",
      "source": [
        "import pandas as pd"
      ],
      "metadata": {
        "id": "TbrMW7EM1LjP"
      },
      "execution_count": null,
      "outputs": []
    },
    {
      "cell_type": "code",
      "execution_count": null,
      "metadata": {
        "id": "PTf5VeHlvzZD"
      },
      "outputs": [],
      "source": [
        "import numpy as np"
      ]
    },
    {
      "cell_type": "code",
      "source": [
        "import statistics as stat"
      ],
      "metadata": {
        "id": "GTWgdgZRxcFq"
      },
      "execution_count": null,
      "outputs": []
    },
    {
      "cell_type": "code",
      "source": [
        "import matplotlib.pyplot as plt"
      ],
      "metadata": {
        "id": "9A4_I5Fbxetz"
      },
      "execution_count": null,
      "outputs": []
    },
    {
      "cell_type": "code",
      "source": [
        "import random as rnd"
      ],
      "metadata": {
        "id": "tSmo6ZrsxkEr"
      },
      "execution_count": null,
      "outputs": []
    },
    {
      "cell_type": "code",
      "source": [
        "file=pd.read_excel('/content/sk 하이닉스.xlsx')"
      ],
      "metadata": {
        "id": "fVVEQhuI1plK"
      },
      "execution_count": null,
      "outputs": []
    },
    {
      "cell_type": "code",
      "source": [
        "history=file['종가']\n"
      ],
      "metadata": {
        "id": "sNvkP06fxmpS"
      },
      "execution_count": null,
      "outputs": []
    },
    {
      "cell_type": "code",
      "source": [
        "history_val=history.values\n",
        "history_val"
      ],
      "metadata": {
        "colab": {
          "base_uri": "https://localhost:8080/"
        },
        "id": "82E6vo-t3UVn",
        "outputId": "3299974f-e147-47e7-e314-911a9d248403"
      },
      "execution_count": null,
      "outputs": [
        {
          "output_type": "execute_result",
          "data": {
            "text/plain": [
              "array([103000, 108000, 108500, 113000, 112500, 111000, 113500, 112500,\n",
              "       110500, 112500, 109000, 110500, 110000, 107500, 107500, 109500,\n",
              "       110000, 110500, 112500, 109500, 108500, 111000, 108000, 110500,\n",
              "       113000, 112500, 112500, 109000, 108000, 110000, 113000, 111000,\n",
              "       111500, 112000, 113500, 113000, 116500, 117000, 116000, 118000,\n",
              "       121000, 120000, 118000, 118000, 120500, 123500, 123500, 122000,\n",
              "       124000, 124000, 116500, 112500, 116000, 117000, 120000, 118000,\n",
              "       119500, 124500, 129000, 125000, 123500, 123000, 122500, 128500,\n",
              "       128500, 130000, 131500, 133000, 130500, 127000, 132500, 132000,\n",
              "       129500, 126000, 125000, 123000, 124500, 124000, 120500, 113500,\n",
              "       117500, 118000, 119000, 119000, 125000, 127000, 126500, 127000,\n",
              "       128500, 129500, 128500, 128000, 124500, 127000, 125000, 125500,\n",
              "       128500, 128500, 131000, 127000, 127500, 126000, 128000, 127500,\n",
              "       127000, 124500, 120500, 122000, 124000, 123500, 121000, 121500,\n",
              "       120500, 123500, 120000, 121500, 118500, 118000, 120000, 116500,\n",
              "       114000, 116000, 115500])"
            ]
          },
          "metadata": {},
          "execution_count": 8
        }
      ]
    },
    {
      "cell_type": "code",
      "source": [
        "history_prices=history_val.tolist()\n",
        "history_prices"
      ],
      "metadata": {
        "colab": {
          "base_uri": "https://localhost:8080/"
        },
        "id": "dlrQ8ho33elC",
        "outputId": "5b258d52-616a-48c2-d0b2-224f9953f9d1"
      },
      "execution_count": null,
      "outputs": [
        {
          "output_type": "execute_result",
          "data": {
            "text/plain": [
              "[103000,\n",
              " 108000,\n",
              " 108500,\n",
              " 113000,\n",
              " 112500,\n",
              " 111000,\n",
              " 113500,\n",
              " 112500,\n",
              " 110500,\n",
              " 112500,\n",
              " 109000,\n",
              " 110500,\n",
              " 110000,\n",
              " 107500,\n",
              " 107500,\n",
              " 109500,\n",
              " 110000,\n",
              " 110500,\n",
              " 112500,\n",
              " 109500,\n",
              " 108500,\n",
              " 111000,\n",
              " 108000,\n",
              " 110500,\n",
              " 113000,\n",
              " 112500,\n",
              " 112500,\n",
              " 109000,\n",
              " 108000,\n",
              " 110000,\n",
              " 113000,\n",
              " 111000,\n",
              " 111500,\n",
              " 112000,\n",
              " 113500,\n",
              " 113000,\n",
              " 116500,\n",
              " 117000,\n",
              " 116000,\n",
              " 118000,\n",
              " 121000,\n",
              " 120000,\n",
              " 118000,\n",
              " 118000,\n",
              " 120500,\n",
              " 123500,\n",
              " 123500,\n",
              " 122000,\n",
              " 124000,\n",
              " 124000,\n",
              " 116500,\n",
              " 112500,\n",
              " 116000,\n",
              " 117000,\n",
              " 120000,\n",
              " 118000,\n",
              " 119500,\n",
              " 124500,\n",
              " 129000,\n",
              " 125000,\n",
              " 123500,\n",
              " 123000,\n",
              " 122500,\n",
              " 128500,\n",
              " 128500,\n",
              " 130000,\n",
              " 131500,\n",
              " 133000,\n",
              " 130500,\n",
              " 127000,\n",
              " 132500,\n",
              " 132000,\n",
              " 129500,\n",
              " 126000,\n",
              " 125000,\n",
              " 123000,\n",
              " 124500,\n",
              " 124000,\n",
              " 120500,\n",
              " 113500,\n",
              " 117500,\n",
              " 118000,\n",
              " 119000,\n",
              " 119000,\n",
              " 125000,\n",
              " 127000,\n",
              " 126500,\n",
              " 127000,\n",
              " 128500,\n",
              " 129500,\n",
              " 128500,\n",
              " 128000,\n",
              " 124500,\n",
              " 127000,\n",
              " 125000,\n",
              " 125500,\n",
              " 128500,\n",
              " 128500,\n",
              " 131000,\n",
              " 127000,\n",
              " 127500,\n",
              " 126000,\n",
              " 128000,\n",
              " 127500,\n",
              " 127000,\n",
              " 124500,\n",
              " 120500,\n",
              " 122000,\n",
              " 124000,\n",
              " 123500,\n",
              " 121000,\n",
              " 121500,\n",
              " 120500,\n",
              " 123500,\n",
              " 120000,\n",
              " 121500,\n",
              " 118500,\n",
              " 118000,\n",
              " 120000,\n",
              " 116500,\n",
              " 114000,\n",
              " 116000,\n",
              " 115500]"
            ]
          },
          "metadata": {},
          "execution_count": 9
        }
      ]
    },
    {
      "cell_type": "code",
      "source": [
        "relative_prices=[]\n",
        "for i in range(0,len(history_prices)):\n",
        "  if i==0:\n",
        "    pass\n",
        "  else:\n",
        "    relative_prices.append((history_prices[i]-history_prices[i-1])/(history_prices[i-1]))\n",
        "std_prices=stat.stdev(relative_prices)\n",
        "print(std_prices)"
      ],
      "metadata": {
        "colab": {
          "base_uri": "https://localhost:8080/"
        },
        "id": "m8QCMWCjy93A",
        "outputId": "dc01f643-0632-4bd5-b966-08b304530169"
      },
      "execution_count": null,
      "outputs": [
        {
          "output_type": "stream",
          "name": "stdout",
          "text": [
            "0.021269743120706668\n"
          ]
        }
      ]
    },
    {
      "cell_type": "code",
      "source": [
        "def randomWalk(stdev,pastPrices):\n",
        "  days=[i for i in range(1,101)]\n",
        "  prices=[]\n",
        "  price=pastPrices[-1]\n",
        "  for i in range(1,101):\n",
        "    price=price+price*rnd.normalvariate(0,stdev)\n",
        "    prices.append(price)\n",
        "  return([days,prices])"
      ],
      "metadata": {
        "id": "POAyM4sRzsZk"
      },
      "execution_count": null,
      "outputs": []
    },
    {
      "cell_type": "code",
      "source": [
        "prices=randomWalk(std_prices,history_prices)\n",
        "plt.plot(prices[0],prices[1])\n",
        "plt.title('random price walk')\n",
        "plt.xlabel('day')\n",
        "plt.ylabel('stock price')"
      ],
      "metadata": {
        "colab": {
          "base_uri": "https://localhost:8080/",
          "height": 313
        },
        "id": "Emiui0YB0PeP",
        "outputId": "39f2e2fb-a937-4ef7-a7a1-c77d90a512cd"
      },
      "execution_count": null,
      "outputs": [
        {
          "output_type": "execute_result",
          "data": {
            "text/plain": [
              "Text(0, 0.5, 'stock price')"
            ]
          },
          "metadata": {},
          "execution_count": 12
        },
        {
          "output_type": "display_data",
          "data": {
            "text/plain": [
              "<Figure size 432x288 with 1 Axes>"
            ],
            "image/png": "[encoded data removed]"
          },
          "metadata": {
            "needs_background": "light"
          }
        }
      ]
    }
  ]
}